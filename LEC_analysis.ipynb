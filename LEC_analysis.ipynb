{
 "cells": [
  {
   "cell_type": "markdown",
   "id": "e4088330",
   "metadata": {},
   "source": [
    "### Imports"
   ]
  },
  {
   "cell_type": "code",
   "execution_count": 12,
   "id": "6dc00cd0",
   "metadata": {},
   "outputs": [],
   "source": [
    "import numpy as np\n",
    "import pandas as pd\n",
    "import matplotlib.pyplot as plt\n",
    "import seaborn as sns\n",
    "\n",
    "import warnings\n",
    "warnings.filterwarnings('ignore')"
   ]
  },
  {
   "cell_type": "markdown",
   "id": "221fa2b8",
   "metadata": {},
   "source": [
    "### Loading and splitting the dataset"
   ]
  },
  {
   "cell_type": "code",
   "execution_count": 3,
   "id": "54e87c2f",
   "metadata": {},
   "outputs": [],
   "source": [
    "from sklearn.model_selection import train_test_split\n",
    "\n",
    "#load dataset into dataframe\n",
    "df = pd.read_csv('LEC_Winter_Season_2025.csv', sep=';')\n",
    "\n",
    "# Define early game features manually based\n",
    "early_game_features = ['GD@15', 'CSD@15', 'XPD@15', 'LVLD@15']\n",
    "\n",
    "# Define and encode the target variable\n",
    "target = 'Outcome'\n",
    "df[target] = df[target].map({'Win': 1, 'Loss': 0})\n",
    "\n",
    "# Features and labels\n",
    "X = df[early_game_features]\n",
    "y = df[target]\n",
    "\n",
    "# Handle missing values (if any)\n",
    "X = X.fillna(0)\n",
    "\n",
    "# Train-test split\n",
    "X_train, X_test, y_train, y_test = train_test_split(X, y, test_size=0.2, random_state=42)"
   ]
  },
  {
   "cell_type": "markdown",
   "id": "738c3f87",
   "metadata": {},
   "source": [
    "### Data preprocessing"
   ]
  },
  {
   "cell_type": "code",
   "execution_count": 4,
   "id": "00aa6aed",
   "metadata": {},
   "outputs": [],
   "source": [
    "from sklearn.preprocessing import StandardScaler\n",
    "\n",
    "# Scale features\n",
    "scaler = StandardScaler()\n",
    "X_train_scaled = scaler.fit_transform(X_train)\n",
    "X_test_scaled = scaler.transform(X_test)"
   ]
  },
  {
   "cell_type": "markdown",
   "id": "140855bf",
   "metadata": {},
   "source": [
    "### Logistic regression model and results"
   ]
  },
  {
   "cell_type": "code",
   "execution_count": 6,
   "id": "b06e7b1f",
   "metadata": {},
   "outputs": [
    {
     "name": "stdout",
     "output_type": "stream",
     "text": [
      "Classification Report:\n",
      "               precision    recall  f1-score   support\n",
      "\n",
      "           0       0.66      0.62      0.64        47\n",
      "           1       0.61      0.65      0.63        43\n",
      "\n",
      "    accuracy                           0.63        90\n",
      "   macro avg       0.63      0.63      0.63        90\n",
      "weighted avg       0.64      0.63      0.63        90\n",
      "\n",
      "Confusion Matrix:\n",
      " [[29 18]\n",
      " [15 28]]\n",
      "Accuracy Score: 0.6333333333333333\n"
     ]
    },
    {
     "data": {
      "image/png": "[encoded data removed]",
      "text/plain": [
       "<Figure size 432x288 with 1 Axes>"
      ]
     },
     "metadata": {
      "needs_background": "light"
     },
     "output_type": "display_data"
    }
   ],
   "source": [
    "from sklearn.linear_model import LogisticRegression\n",
    "from sklearn.model_selection import GridSearchCV\n",
    "from sklearn.metrics import classification_report, confusion_matrix, accuracy_score\n",
    "\n",
    "# Define hyperparameter grid for regularization strength\n",
    "param_grid = {'C': [0.001, 0.01, 0.1, 1, 10, 100]}\n",
    "\n",
    "# Set up GridSearchCV (we keep default solver and penalty for simplicity)\n",
    "grid_search = GridSearchCV(LogisticRegression(max_iter=1000), param_grid, cv=5, scoring='accuracy')\n",
    "grid_search.fit(X_train_scaled, y_train)\n",
    "\n",
    "# Get best estimator\n",
    "best_logreg = grid_search.best_estimator_\n",
    "\n",
    "# Predictions with best model\n",
    "y_pred_best = best_logreg.predict(X_test_scaled)\n",
    "\n",
    "# Evaluation\n",
    "print(\"Classification Report:\\n\", classification_report(y_test, y_pred_best ))\n",
    "print(\"Confusion Matrix:\\n\", confusion_matrix(y_test, y_pred_best ))\n",
    "print(\"Accuracy Score:\", accuracy_score(y_test, y_pred_best ))\n",
    "\n",
    "# Visualize feature importance (coefficients)\n",
    "coefficients = pd.Series(best_logreg.coef_[0], index=early_game_features)\n",
    "coefficients.sort_values().plot(kind='barh', title='Logistic Regression Coefficients')\n",
    "plt.tight_layout()\n",
    "plt.show()"
   ]
  },
  {
   "cell_type": "markdown",
   "id": "a91c04ec",
   "metadata": {},
   "source": [
    "### Random forst model and results"
   ]
  },
  {
   "cell_type": "code",
   "execution_count": null,
   "id": "4c96b18b",
   "metadata": {},
   "outputs": [
    {
     "name": "stdout",
     "output_type": "stream",
     "text": [
      "Classification Report:\n",
      "               precision    recall  f1-score   support\n",
      "\n",
      "           0       0.65      0.55      0.60        47\n",
      "           1       0.58      0.67      0.62        43\n",
      "\n",
      "    accuracy                           0.61        90\n",
      "   macro avg       0.61      0.61      0.61        90\n",
      "weighted avg       0.62      0.61      0.61        90\n",
      "\n",
      "Confusion Matrix:\n",
      " [[26 21]\n",
      " [14 29]]\n",
      "Accuracy Score: 0.6111111111111112\n"
     ]
    },
    {
     "data": {
      "image/png": "[encoded data removed]",
      "text/plain": [
       "<Figure size 432x288 with 1 Axes>"
      ]
     },
     "metadata": {
      "needs_background": "light"
     },
     "output_type": "display_data"
    }
   ],
   "source": [
    "from sklearn.ensemble import RandomForestClassifier\n",
    "rf_param_grid = {\n",
    "    \"n_estimators\": [50, 100, 200], \n",
    "    \"max_depth\": [5, 10, 20],\n",
    "}\n",
    "\n",
    "grid_search = GridSearchCV(RandomForestClassifier(random_state=42), rf_param_grid, cv=5, scoring=\"accuracy\")\n",
    "grid_search.fit(X_train_scaled, y_train)\n",
    "\n",
    "# Get best estimator\n",
    "best_rf = grid_search.best_estimator_\n",
    "\n",
    "# Predictions with best model\n",
    "y_pred_best = best_rf.predict(X_test_scaled)\n",
    "\n",
    "# Evaluation\n",
    "print(\"Classification Report:\\n\", classification_report(y_test, y_pred_best ))\n",
    "print(\"Confusion Matrix:\\n\", confusion_matrix(y_test, y_pred_best ))\n",
    "print(\"Accuracy Score:\", accuracy_score(y_test, y_pred_best ))\n",
    "\n",
    "# Visualize feature importance (coefficients)\n",
    "importances = pd.Series(best_rf.feature_importances_, index=early_game_features)\n",
    "importances.sort_values().plot(kind='barh', title='Random Forest Coefficients')\n",
    "plt.tight_layout()\n",
    "plt.show()"
   ]
  },
  {
   "cell_type": "markdown",
   "id": "78d9df8f",
   "metadata": {},
   "source": [
    "### Gradient Boosting model and results"
   ]
  },
  {
   "cell_type": "code",
   "execution_count": null,
   "id": "2d285809",
   "metadata": {},
   "outputs": [
    {
     "name": "stdout",
     "output_type": "stream",
     "text": [
      "Classification Report:\n",
      "               precision    recall  f1-score   support\n",
      "\n",
      "           0       0.65      0.55      0.60        47\n",
      "           1       0.58      0.67      0.62        43\n",
      "\n",
      "    accuracy                           0.61        90\n",
      "   macro avg       0.61      0.61      0.61        90\n",
      "weighted avg       0.62      0.61      0.61        90\n",
      "\n",
      "Confusion Matrix:\n",
      " [[26 21]\n",
      " [14 29]]\n",
      "Accuracy Score: 0.6111111111111112\n"
     ]
    },
    {
     "data": {
      "image/png": "[encoded data removed]",
      "text/plain": [
       "<Figure size 432x288 with 1 Axes>"
      ]
     },
     "metadata": {
      "needs_background": "light"
     },
     "output_type": "display_data"
    }
   ],
   "source": [
    "from sklearn.ensemble import GradientBoostingClassifier\n",
    "#  Define parameter grid\n",
    "gb_param_grid = {\n",
    "    \"n_estimators\": [50, 100, 200],\n",
    "    \"max_depth\": [3, 5, 7],\n",
    "    \"learning_rate\": [0.01, 0.1, 0.2],\n",
    "}\n",
    "\n",
    "# Grid search setup\n",
    "grid_search = GridSearchCV(GradientBoostingClassifier(random_state=42),gb_param_grid,cv=5,scoring=\"accuracy\")\n",
    "grid_search.fit(X_train_scaled, y_train)\n",
    "\n",
    "# Best estimator\n",
    "best_gb = grid_search.best_estimator_\n",
    "\n",
    "# Predictions with best model\n",
    "y_pred_best = best_rf.predict(X_test_scaled)\n",
    "\n",
    "# Evaluation\n",
    "print(\"Classification Report:\\n\", classification_report(y_test, y_pred_best ))\n",
    "print(\"Confusion Matrix:\\n\", confusion_matrix(y_test, y_pred_best ))\n",
    "print(\"Accuracy Score:\", accuracy_score(y_test, y_pred_best ))\n",
    "\n",
    "# Visualize feature importance (coefficients)\n",
    "importances = pd.Series(best_rf.feature_importances_, index=early_game_features)\n",
    "importances.sort_values().plot(kind='barh', title='Gradient Boost Coefficients')\n",
    "plt.tight_layout()\n",
    "plt.show()"
   ]
  }
 ],
 "metadata": {
  "kernelspec": {
   "display_name": "base",
   "language": "python",
   "name": "python3"
  },
  "language_info": {
   "codemirror_mode": {
    "name": "ipython",
    "version": 3
   },
   "file_extension": ".py",
   "mimetype": "text/x-python",
   "name": "python",
   "nbconvert_exporter": "python",
   "pygments_lexer": "ipython3",
   "version": "3.9.12"
  }
 },
 "nbformat": 4,
 "nbformat_minor": 5
}
